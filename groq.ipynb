{
 "cells": [
  {
   "cell_type": "code",
   "execution_count": 1,
   "metadata": {},
   "outputs": [
    {
     "data": {
      "text/plain": [
       "True"
      ]
     },
     "execution_count": 1,
     "metadata": {},
     "output_type": "execute_result"
    }
   ],
   "source": [
    "from langchain_groq import ChatGroq\n",
    "from dotenv import load_dotenv\n",
    "import os\n",
    "\n",
    "load_dotenv()"
   ]
  },
  {
   "cell_type": "code",
   "execution_count": 2,
   "metadata": {},
   "outputs": [],
   "source": [
    "groq_api_key = os.environ['GROQ_API_KEY']\n",
    "openai_api_key = os.environ['OPENAI_API_KEY']"
   ]
  },
  {
   "cell_type": "code",
   "execution_count": 3,
   "metadata": {},
   "outputs": [],
   "source": [
    "tc_01 = \"\"\"Jakarta - Presiden Joko Widodo (Jokowi) dan Ketua DPR RI Puan Maharani menghadiri gala dinner World Water Forum (WWF) ke-10 di Bali. Dalam forum dunia itu, tampak momen hangat dan penuh tawa Jokowi dan Puan. Pada permulaan gala dinner WWF, Jokowi menyambut Puan Maharani di Taman Budaya Garuda Wisnu Kencana (GWK), Bali, Minggu (19/5) malam. Puan tiba di GWK mengenakan pakaian kebaya putih, ia berjalan menuju Jokowi yang sudah menunggu di panggung. Jokowi dan Puan berjabat tangan lalu berbincang sejenak dan senyuman terpancar di wajah Jokowi maupun Puan. Keduanya lalu berdiri bersebelahan menghadap ke kamera. Jokowi lantas mempersilakan Puan ke venue welcoming dinner. Jokowi kembali bertegur sapa dengan Puan Maharani usai gala dinner WWF. Keduanya Kembali terlihat bersalaman. Perbincangan keduanya juga Kembali terjadi. Sejurus kemudian, Jokowi terlihat menampilkan gestur joget di depan Puan. Seketika, baik Jokowi maupun Puan tertawa. Setelah bercanda dengan Puan, Jokowi lalu menyapa sejumlah delegasi WWF lainnya. Gestur Jokowi joget di depan Puan tak terlepas dari sesi akhir gala dinner di mana para tamu dihibur dengan lagu 'Sayang' yang dibawakan oleh Bulan Sutena. Saat lagu dimulai, sejumlah menteri dan tamu berdiri dan bergoyang. Sejumlah menteri yang turut berjoget yakni Menteri Luar Negeri Retno Marsudi, Menteri PUPR Basuki Hadimuljono, Menparekraf Sandiaga Uno, serta Puan Maharani. Jokowi terlihat ikut menikmati lagu dan bernyanyi dari tempat duduknya. Jokowi tampak sambil sedikit menggoyangkan badannya. Tidak hanya satu lagu, Jokowi juga terlihat terus ikut bernyanyi hingga lagu selanjutnya dibawakan. Lagu kedua yang dibawakan Bulan yakni 'Pergi Pagi Pulang Pagi'.\"\"\""
   ]
  },
  {
   "cell_type": "code",
   "execution_count": 4,
   "metadata": {},
   "outputs": [],
   "source": [
    "tc_02 = \"\"\"Jokowi tinggal di Kanada demi membangun negeri baru yaitu IndoKanada\"\"\""
   ]
  },
  {
   "cell_type": "code",
   "execution_count": 5,
   "metadata": {},
   "outputs": [],
   "source": [
    "tc_03 = \"\"\"Serang - Dimyati Natakusumah mengikuti penjaringan bakal calon gubernur Provinsi Banten dari PKB. Dia menyampaikan janji bisa menggratiskan sekolah warga Banten hingga S3.\n",
    "\"Misinya bagaimana bisa pendidikan gratis, dari TK, SD, SMP, SMA, sampai S1, S2, dan S3,\" kata Dimyati, saat acara penjaringan di DPW PKB Provinsi Banten di Kota Serang, Senin (20/5/2024).\n",
    "\n",
    "Untuk tingkat TK, SD, SMP, itu katanya memang bagian dari tanggung jawab kabupaten dan kota. Jika ada kekurangan anggaran, maka provinsi bisa membantu.\n",
    "\n",
    "\"SMA tanggung jawab provinsi. Maka S1, S2, dan S3 itu yang harus digelorakan,\" katanya.\n",
    "\n",
    "Caranya, menurut Dimyati adalah kerja sama dengan perguruan tinggi yang ada di Banten. Asal memiliki KTP dan kuliah di Banten, maka itu bisa dibantu oleh pemerintah.\n",
    "\n",
    "\n",
    "\"Asalkan punya KTP Banten, asalkan kuliah di Banten di-cover oleh pemerintah,\" ujarnya.\n",
    "\n",
    "Kedua, ia juga mengusung kesehatan gratis untuk masyarakat. Warga yang tidak memiliki BPJS, asalkan warga dengan identitas KTP Banten bisa digratiskan mendapatkan layanan kesehatan di rumah sakit dan klinik.\n",
    "\n",
    "\"Kelas 3 gratiskan, jangan karena tidak punya BPJS dipersulit, asal punya KTP Banten sudah itu bagian dari BPJS,\" ujarnya.s\"\"\""
   ]
  },
  {
   "cell_type": "code",
   "execution_count": 6,
   "metadata": {},
   "outputs": [],
   "source": [
    "from groq import Groq\n",
    "\n",
    "client = Groq(\n",
    "    api_key=groq_api_key\n",
    ")"
   ]
  },
  {
   "cell_type": "code",
   "execution_count": 24,
   "metadata": {},
   "outputs": [],
   "source": [
    "SYSTEM_PROMPT = \"Anda adalah sistem Named Entity Recognition (NER) yang cerdas dan cerdas yang akan memberikan Output dalam format JSON. Saya akan memberi Anda definisi entitas yang perlu Anda ekstrak dan kalimat dari mana Anda perlu mengekstrak entitas dan hasilnya dalam format tertentu dengan contoh\"\n",
    "\n",
    "USER_PROMPT_1 = \"Apakah Anda sudah jelas mengenai peran Anda?\"\n",
    "\n",
    "ASSISTANT_PROMPT_1 = \"Tentu, saya siap membantu Anda dengan tugas NER Anda. Harap berikan saya informasi yang diperlukan untuk memulai.\"\n",
    "\n",
    "PROMPT = (\n",
    "    \"Definisi Entitas :\\n\"\n",
    "    \"1. CRD : Entitas ini mengacu pada bilangan yang menunjukkan kuantitas atau jumlah. Sepeti satu, dua, lima ratus\\n\"\n",
    "    \"2. DAT: Entitas ini mengacu pada tanggal tertentu. Format tanggal bisa juga dalam bahasa alami. Seperti senin, selasa, atau 17-08-1945\\n\"\n",
    "    \"3. EVT : Entitas ini mengacu pada suatu kejadian atau peristiwa yang signifikan. Contoh: Olimpiade, Pemilu 2024, Perang Dunia III\\n\"\n",
    "    \"4. FAC : Entitas ini mengacu pada bangunan atau tempat yang digunakan untuk tujuan tertentu. Contoh: rumah sakit, sekolah, stadion.\\n\"\n",
    "    \"5. GPE : Entitas ini mengacu pada nama negara, kota, atau wilayah politik lainnya. Contoh: Indonesia, Jakarta, Amerika Serikat.\\n\"\n",
    "    \"6. LAW : Entitas ini mengacu pada undang-undang atau peraturan hukum. Contoh: Undang-Undang Dasar 1945, Peraturan Pemerintah No. 23 Tahun 2022.\\n\"\n",
    "    \"7. LOC : Entitas ini mengacu pada lokasi atau tempat geografis yang tidak termasuk dalam kategori GPE. Contoh: Gunung Everest, Laut Jawa, Sungai Nil.\\n\"\n",
    "    \"8. MON : Entitas ini mengacu pada jumlah uang atau mata uang. Contoh: Rp 1.000.000, USD 100, Yen 5.000.\\n\"\n",
    "    \"9. NOR : Entitas ini mengacu pada organisasi politik atau kelompok politik. Contoh: Partai Demokrat, Partai Golkar, Komisi Pemilihan Umum.\\n\"\n",
    "    \"10. ORD : Entitas ini mengacu pada bilangan urutan atau posisi dalam suatu deretan. Contoh: pertama, kedua, ketiga.\\n\"\n",
    "    \"11. ORG : Entitas ini mengacu pada organisasi atau lembaga selain yang bersifat politik. Contoh: Google, Perserikatan Bangsa-Bangsa (PBB), Universitas Harvard.\\n\"\n",
    "    \"12. PER : Entitas ini mengacu pada individu atau orang. Contoh: Joko Widodo, Nelson Mandela, Albert Einstein.\\n\"\n",
    "    \"13. PRC : Entitas ini mengacu pada persentase atau perbandingan dalam bentuk persen. Contoh: 50%, 75%, 100%.\\n\"\n",
    "    \"14. PRD : Entitas ini mengacu pada produk atau barang. Contoh: iPhone, Toyota Camry, Laptop Dell.\\n\"\n",
    "    \"15. QTY : Entitas ini mengacu pada jumlah atau kuantitas dari sesuatu. Contoh: dua lusin, tiga kilogram, sepuluh liter.\\n\"\n",
    "    \"16. REG : Entitas ini mengacu pada agama atau keyakinan spiritual. Contoh: Islam, Kristen, Hindu.\\n\"\n",
    "    \"17. TIM : Entitas ini mengacu pada waktu tertentu dalam sehari. Contoh: pukul 07.00, siang, malam.\\n\"\n",
    "    \"18. WOA : Entitas ini mengacu pada karya seni atau karya sastra. Contoh: Mona Lisa, War and Peace, Starry Night.\\n\"\n",
    "    \"18. LAN : Entitas ini mengacu pada bahasa yang digunakan dalam komunikasi. Contoh: Bahasa Indonesia, Bahasa Inggris, Bahasa Mandarin.\\n\"\n",
    "    \"\\n\"\n",
    "    \n",
    "    \"Output Format:\\n\"\n",
    "    \"{{'CRD': [daftar entitas yang ada], 'DAT': [daftar entitas yang ada], 'EVT': [daftar entitas yang ada], 'FAC': [daftar entitas yang ada], 'GPE': [daftar entitas yang ada], 'LAW': [daftar entitas yang ada], 'LOC': [daftar entitas yang ada], 'MON': [daftar entitas yang ada], 'NOR': [daftar entitas yang ada], 'ORD': [daftar entitas yang ada], 'ORG': [daftar entitas yang ada], 'PER': [daftar entitas yang ada], 'PRC': [daftar entitas yang ada], 'PRD': [daftar entitas yang ada], 'QTY': [daftar entitas yang ada], 'REG': [daftar entitas yang ada], 'TIM': [daftar entitas yang ada], 'WOA': [daftar entitas yang ada], 'LAN': [daftar entitas yang ada]}}\\n\"\n",
    "    \"Langsung berikan Output dengan format yang telah diberikan, tidak usah ada kata kata seperti\\n\"\n",
    "    \"Examples: \\n\"\n",
    "    \"Berikut adalah hasil analisis NER\\n\"\n",
    "    \"Here is the output in the specified format:\\n\" \n",
    "    \"ataupun sejenisnya\"\n",
    "    \"Jika tidak ditemukan entitas maka tidak perlu ditampilkan\\n\"\n",
    "    \"Tidak boleh ada 2 value didalam satu entitas jika ada buat baru\\n\"\n",
    "    \"Examples: \\n\"\n",
    "    \"Output : 'GPE': ['Banten', 'Provinsi Banten', 'Kota Serang'] maka buat jadi 'GPE': ['Banten'],'GPE': ['Provinsi Banten'], 'GPE': ['Kota Serang']\"\n",
    "    \"\\n\"\n",
    "    \"Examples:\\n\"\n",
    "    \"\\n\"\n",
    "    \"1. Sentence: Presiden Jokowi widodo bertemu dengan Perdana Menteri India untuk membahas pertemuan G20 di Bali, pada tanggal 20 September 2023.\\n\"\n",
    "    \"Output: {{'DAT': ['20 September 2023'], 'EVT':['G20'], 'GPE':['India'] 'GPE': ['Bali'], 'NOR': ['Presiden'], 'NOR': ['Perdana Menteri'], 'PER': ['Jokowi widodo']}}\\n\"\n",
    "    \"\\n\"\n",
    "    \"2. Sentence: John dan Sunita Roy adalah teman dan mereka bertemu satu sama lain pada 24/03/1998 di Samsung saat mereka menjadi rekan kerja.\\n\"\n",
    "    \"Output: {{'DAT': ['24/03/1998'],  'ORG':['Samsung'], 'PER': ['John'], 'PER': ['Sunita Roy']}}\\n\"\n",
    ")"
   ]
  },
  {
   "cell_type": "code",
   "execution_count": 25,
   "metadata": {},
   "outputs": [],
   "source": [
    "role = SYSTEM_PROMPT + '\\n' + PROMPT"
   ]
  },
  {
   "cell_type": "code",
   "execution_count": 26,
   "metadata": {},
   "outputs": [],
   "source": [
    "def chat_completion_response(final_prompt):\n",
    "  response = client.chat.completions.create(\n",
    "              model=\"llama3-70b-8192\",\n",
    "              messages=[\n",
    "                    {\"role\": \"system\", \"content\": role},\n",
    "                    {\"role\": \"user\", \"content\": USER_PROMPT_1},\n",
    "                    {\"role\": \"assistant\", \"content\": ASSISTANT_PROMPT_1},\n",
    "                    {\"role\": \"user\", \"content\": final_prompt}\n",
    "                ],\n",
    "              temperature=0\n",
    "            )\n",
    "  return response.choices[0].message.content"
   ]
  },
  {
   "cell_type": "code",
   "execution_count": 27,
   "metadata": {},
   "outputs": [
    {
     "data": {
      "text/plain": [
       "\"{{'PER': ['Jokowi'], 'GPE': ['Kanada'], 'GPE': ['IndoKanada']}}\""
      ]
     },
     "execution_count": 27,
     "metadata": {},
     "output_type": "execute_result"
    }
   ],
   "source": [
    "ners = chat_completion_response(tc_02)\n",
    "ners"
   ]
  },
  {
   "cell_type": "code",
   "execution_count": 28,
   "metadata": {},
   "outputs": [
    {
     "data": {
      "text/plain": [
       "\"{{'PER': ['Joko Widodo'], 'PER': ['Puan Maharani'], 'PER': ['Retno Marsudi'], 'PER': ['Basuki Hadimuljono'], 'PER': ['Sandiaga Uno'], 'PER': ['Bulan Sutena'], 'GPE': ['Jakarta'], 'GPE': ['Bali'], 'ORG': ['DPR RI'], 'EVT': ['World Water Forum'], 'LOC': ['Taman Budaya Garuda Wisnu Kencana'], 'DAT': ['19/5']}}\""
      ]
     },
     "execution_count": 28,
     "metadata": {},
     "output_type": "execute_result"
    }
   ],
   "source": [
    "ners = chat_completion_response(tc_01)\n",
    "ners"
   ]
  },
  {
   "cell_type": "code",
   "execution_count": 29,
   "metadata": {},
   "outputs": [
    {
     "data": {
      "text/plain": [
       "\"{{'CRD': ['S1', 'S2', 'S3'], 'DAT': ['20/5/2024'], 'GPE': ['Banten'], 'GPE': ['Provinsi Banten'], 'GPE': ['Kota Serang'], 'NOR': ['PKB'], 'PER': ['Dimyati Natakusumah']}}\""
      ]
     },
     "execution_count": 29,
     "metadata": {},
     "output_type": "execute_result"
    }
   ],
   "source": [
    "ners = chat_completion_response(tc_03)\n",
    "ners"
   ]
  },
  {
   "cell_type": "code",
   "execution_count": 13,
   "metadata": {},
   "outputs": [],
   "source": [
    "tc_04 = \"\"\"Jakarta - Presiden Iran Ebrahim Raisi meninggal dunia usai kecelakaan helikopter pada Minggu (19/5). Berdasarkan konstitusi negara, wakil presiden pertama Mohammad Mokhber (68) akan menjadi presiden sementara Iran untuk menggantikan Raisi. Siapa dia?\n",
    "Sebagai presiden sementara, Mokhber adalah bagian dari dewan yang beranggotakan tiga orang, bersama dengan ketua parlemen dan ketua pengadilan, yang akan menyelenggarakan pemilihan presiden baru dalam waktu 50 hari setelah kematian Raisi.\n",
    "\n",
    "Dilansir Reuters dan Al Arabiya, Senin (20/5/2024), lahir pada 1 September 1955, Mokhber, seperti Raisi, dipandang dekat dengan Pemimpin Tertinggi Ayatollah Ali Khamenei, yang memiliki keputusan akhir dalam segala urusan negara. Mokhber menjadi wakil presiden pertama pada tahun 2021 ketika Raisi terpilih sebagai presiden.\n",
    "\n",
    "Mokhber adalah bagian dari tim pejabat Iran yang mengunjungi Moskow, Rusia pada bulan Oktober tahun lalu, dan setuju untuk memasok rudal darat-ke-darat dan lebih banyak drone ke militer Rusia, kata sumber kepada Reuters pada saat itu. Tim tersebut juga termasuk dua pejabat senior dari Garda Revolusi Iran dan seorang pejabat dari Dewan Keamanan Nasional Tertinggi.\"\"\""
   ]
  },
  {
   "cell_type": "code",
   "execution_count": 14,
   "metadata": {},
   "outputs": [
    {
     "data": {
      "text/plain": [
       "\"Here is the output in the specified format:\\n\\n{{'CRD': ['68', '50', '1', '1955', '2021', '2024'], \\n'DAT': ['19/5', '1 September 1955', '20/5/2024', 'Oktober tahun lalu'], \\n'EVT': [], \\n'FAC': [], \\n'GPE': ['Iran', 'Rusia', 'Moskow', 'Jakarta'], \\n'LAW': [], \\n'LOC': [], \\n'MON': [], \\n'NOR': ['Pemimpin Tertinggi Ayatollah Ali Khamenei'], \\n'ORD': [], \\n'ORG': [], \\n'PER': ['Ebrahim Raisi', 'Mohammad Mokhber'], \\n'PRC': [], \\n'PRD': [], \\n'QTY': [], \\n'REG': [], \\n'TIM': [], \\n'WOA': [], \\n'LAN': []}}\""
      ]
     },
     "execution_count": 14,
     "metadata": {},
     "output_type": "execute_result"
    }
   ],
   "source": [
    "ners = chat_completion_response(tc_04)\n",
    "ners"
   ]
  },
  {
   "cell_type": "code",
   "execution_count": 22,
   "metadata": {},
   "outputs": [],
   "source": [
    "pisah = ners"
   ]
  },
  {
   "cell_type": "code",
   "execution_count": 27,
   "metadata": {},
   "outputs": [
    {
     "data": {
      "text/plain": [
       "\"{{'CRD': [], 'DAT': ['19/5'], 'EVT': ['World Water Forum (WWF) ke-10'], 'FAC': ['Taman Budaya Garuda Wisnu Kencana (GWK)'], 'GPE': ['Indonesia', 'Bali'], 'LAW': ['None'], 'LOC': ['Bali'], 'MON': ['None'], 'NOR': ['Presiden', 'Ketua DPR RI'], 'ORD': ['None'], 'ORG': ['WWF'], 'PER': ['Joko Widodo', 'Puan Maharani', 'Bulan Sutena', 'Retno Marsudi', 'Basuki Hadimuljono', 'Sandiaga Uno'], 'PRC': ['None'], 'PRD': ['None'], 'QTY': ['None'], 'REG': ['None'], 'TIM': ['Minggu'], 'WOA': ['None'], 'LAN': ['Bahasa Indonesia']}\""
      ]
     },
     "execution_count": 27,
     "metadata": {},
     "output_type": "execute_result"
    }
   ],
   "source": [
    "pisah[2]"
   ]
  },
  {
   "cell_type": "code",
   "execution_count": null,
   "metadata": {},
   "outputs": [],
   "source": []
  }
 ],
 "metadata": {
  "kernelspec": {
   "display_name": ".venv",
   "language": "python",
   "name": "python3"
  },
  "language_info": {
   "codemirror_mode": {
    "name": "ipython",
    "version": 3
   },
   "file_extension": ".py",
   "mimetype": "text/x-python",
   "name": "python",
   "nbconvert_exporter": "python",
   "pygments_lexer": "ipython3",
   "version": "3.11.6"
  }
 },
 "nbformat": 4,
 "nbformat_minor": 2
}
